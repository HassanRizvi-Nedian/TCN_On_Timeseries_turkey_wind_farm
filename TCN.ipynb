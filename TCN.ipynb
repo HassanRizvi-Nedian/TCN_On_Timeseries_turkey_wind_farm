{
  "nbformat": 4,
  "nbformat_minor": 0,
  "metadata": {
    "colab": {
      "provenance": []
    },
    "kernelspec": {
      "name": "python3",
      "display_name": "Python 3"
    },
    "language_info": {
      "name": "python"
    }
  },
  "cells": [
    {
      "cell_type": "code",
      "source": [
        "!pip install keras-tcn --no-dependencies"
      ],
      "metadata": {
        "colab": {
          "base_uri": "https://localhost:8080/"
        },
        "id": "gCIawz1hdJdA",
        "outputId": "e804dbb5-17d8-42df-b5d7-ef48ddb58a2b"
      },
      "execution_count": 4,
      "outputs": [
        {
          "output_type": "stream",
          "name": "stdout",
          "text": [
            "Looking in indexes: https://pypi.org/simple, https://us-python.pkg.dev/colab-wheels/public/simple/\n",
            "Requirement already satisfied: keras-tcn in /usr/local/lib/python3.8/dist-packages (3.5.0)\n"
          ]
        }
      ]
    },
    {
      "cell_type": "code",
      "source": [
        "from tcn import TCN\n",
        "import pandas as pd\n",
        "import tensorflow as tf\n",
        "import matplotlib as mpl\n",
        "import matplotlib.pyplot as plt\n",
        "from sklearn.model_selection import train_test_split\n",
        "from keras.preprocessing.sequence import TimeseriesGenerator\n",
        "from sklearn.preprocessing import MinMaxScaler, StandardScaler\n",
        "import numpy as np\n",
        "from tensorflow import keras\n",
        "\n",
        "from tensorflow.keras import Sequential\n",
        "from tensorflow.keras.layers import Dense\n",
        "\n",
        "mpl.rcParams['figure.figsize']=(10,8)\n",
        "mpl.rcParams['axes.grid']= False"
      ],
      "metadata": {
        "id": "aUivfhE0deLS"
      },
      "execution_count": 241,
      "outputs": []
    },
    {
      "cell_type": "code",
      "source": [
        "data=pd.read_csv('T1.csv')"
      ],
      "metadata": {
        "id": "0bis-eVodg5j"
      },
      "execution_count": 89,
      "outputs": []
    },
    {
      "cell_type": "code",
      "source": [
        "data "
      ],
      "metadata": {
        "colab": {
          "base_uri": "https://localhost:8080/",
          "height": 424
        },
        "id": "Fg-MUw4geR1u",
        "outputId": "2760c026-118a-4790-9283-329559381a5b"
      },
      "execution_count": 119,
      "outputs": [
        {
          "output_type": "execute_result",
          "data": {
            "text/plain": [
              "              Date/Time  ...  Wind Direction (°)\n",
              "0      01 01 2018 00:00  ...          259.994904\n",
              "1      01 01 2018 00:10  ...          268.641113\n",
              "2      01 01 2018 00:20  ...          272.564789\n",
              "3      01 01 2018 00:30  ...          271.258087\n",
              "4      01 01 2018 00:40  ...          265.674286\n",
              "...                 ...  ...                 ...\n",
              "50525  31 12 2018 23:10  ...           80.502724\n",
              "50526  31 12 2018 23:20  ...           84.062599\n",
              "50527  31 12 2018 23:30  ...           84.742500\n",
              "50528  31 12 2018 23:40  ...           84.297913\n",
              "50529  31 12 2018 23:50  ...           82.274620\n",
              "\n",
              "[50530 rows x 5 columns]"
            ],
            "text/html": [
              "\n",
              "  <div id=\"df-406bfd29-4703-4461-afaa-89633a3c86d1\">\n",
              "    <div class=\"colab-df-container\">\n",
              "      <div>\n",
              "<style scoped>\n",
              "    .dataframe tbody tr th:only-of-type {\n",
              "        vertical-align: middle;\n",
              "    }\n",
              "\n",
              "    .dataframe tbody tr th {\n",
              "        vertical-align: top;\n",
              "    }\n",
              "\n",
              "    .dataframe thead th {\n",
              "        text-align: right;\n",
              "    }\n",
              "</style>\n",
              "<table border=\"1\" class=\"dataframe\">\n",
              "  <thead>\n",
              "    <tr style=\"text-align: right;\">\n",
              "      <th></th>\n",
              "      <th>Date/Time</th>\n",
              "      <th>LV ActivePower (kW)</th>\n",
              "      <th>Wind Speed (m/s)</th>\n",
              "      <th>Theoretical_Power_Curve (KWh)</th>\n",
              "      <th>Wind Direction (°)</th>\n",
              "    </tr>\n",
              "  </thead>\n",
              "  <tbody>\n",
              "    <tr>\n",
              "      <th>0</th>\n",
              "      <td>01 01 2018 00:00</td>\n",
              "      <td>380.047791</td>\n",
              "      <td>5.311336</td>\n",
              "      <td>416.328908</td>\n",
              "      <td>259.994904</td>\n",
              "    </tr>\n",
              "    <tr>\n",
              "      <th>1</th>\n",
              "      <td>01 01 2018 00:10</td>\n",
              "      <td>453.769196</td>\n",
              "      <td>5.672167</td>\n",
              "      <td>519.917511</td>\n",
              "      <td>268.641113</td>\n",
              "    </tr>\n",
              "    <tr>\n",
              "      <th>2</th>\n",
              "      <td>01 01 2018 00:20</td>\n",
              "      <td>306.376587</td>\n",
              "      <td>5.216037</td>\n",
              "      <td>390.900016</td>\n",
              "      <td>272.564789</td>\n",
              "    </tr>\n",
              "    <tr>\n",
              "      <th>3</th>\n",
              "      <td>01 01 2018 00:30</td>\n",
              "      <td>419.645905</td>\n",
              "      <td>5.659674</td>\n",
              "      <td>516.127569</td>\n",
              "      <td>271.258087</td>\n",
              "    </tr>\n",
              "    <tr>\n",
              "      <th>4</th>\n",
              "      <td>01 01 2018 00:40</td>\n",
              "      <td>380.650696</td>\n",
              "      <td>5.577941</td>\n",
              "      <td>491.702972</td>\n",
              "      <td>265.674286</td>\n",
              "    </tr>\n",
              "    <tr>\n",
              "      <th>...</th>\n",
              "      <td>...</td>\n",
              "      <td>...</td>\n",
              "      <td>...</td>\n",
              "      <td>...</td>\n",
              "      <td>...</td>\n",
              "    </tr>\n",
              "    <tr>\n",
              "      <th>50525</th>\n",
              "      <td>31 12 2018 23:10</td>\n",
              "      <td>2963.980957</td>\n",
              "      <td>11.404030</td>\n",
              "      <td>3397.190793</td>\n",
              "      <td>80.502724</td>\n",
              "    </tr>\n",
              "    <tr>\n",
              "      <th>50526</th>\n",
              "      <td>31 12 2018 23:20</td>\n",
              "      <td>1684.353027</td>\n",
              "      <td>7.332648</td>\n",
              "      <td>1173.055771</td>\n",
              "      <td>84.062599</td>\n",
              "    </tr>\n",
              "    <tr>\n",
              "      <th>50527</th>\n",
              "      <td>31 12 2018 23:30</td>\n",
              "      <td>2201.106934</td>\n",
              "      <td>8.435358</td>\n",
              "      <td>1788.284755</td>\n",
              "      <td>84.742500</td>\n",
              "    </tr>\n",
              "    <tr>\n",
              "      <th>50528</th>\n",
              "      <td>31 12 2018 23:40</td>\n",
              "      <td>2515.694092</td>\n",
              "      <td>9.421366</td>\n",
              "      <td>2418.382503</td>\n",
              "      <td>84.297913</td>\n",
              "    </tr>\n",
              "    <tr>\n",
              "      <th>50529</th>\n",
              "      <td>31 12 2018 23:50</td>\n",
              "      <td>2820.466064</td>\n",
              "      <td>9.979332</td>\n",
              "      <td>2779.184096</td>\n",
              "      <td>82.274620</td>\n",
              "    </tr>\n",
              "  </tbody>\n",
              "</table>\n",
              "<p>50530 rows × 5 columns</p>\n",
              "</div>\n",
              "      <button class=\"colab-df-convert\" onclick=\"convertToInteractive('df-406bfd29-4703-4461-afaa-89633a3c86d1')\"\n",
              "              title=\"Convert this dataframe to an interactive table.\"\n",
              "              style=\"display:none;\">\n",
              "        \n",
              "  <svg xmlns=\"http://www.w3.org/2000/svg\" height=\"24px\"viewBox=\"0 0 24 24\"\n",
              "       width=\"24px\">\n",
              "    <path d=\"M0 0h24v24H0V0z\" fill=\"none\"/>\n",
              "    <path d=\"M18.56 5.44l.94 2.06.94-2.06 2.06-.94-2.06-.94-.94-2.06-.94 2.06-2.06.94zm-11 1L8.5 8.5l.94-2.06 2.06-.94-2.06-.94L8.5 2.5l-.94 2.06-2.06.94zm10 10l.94 2.06.94-2.06 2.06-.94-2.06-.94-.94-2.06-.94 2.06-2.06.94z\"/><path d=\"M17.41 7.96l-1.37-1.37c-.4-.4-.92-.59-1.43-.59-.52 0-1.04.2-1.43.59L10.3 9.45l-7.72 7.72c-.78.78-.78 2.05 0 2.83L4 21.41c.39.39.9.59 1.41.59.51 0 1.02-.2 1.41-.59l7.78-7.78 2.81-2.81c.8-.78.8-2.07 0-2.86zM5.41 20L4 18.59l7.72-7.72 1.47 1.35L5.41 20z\"/>\n",
              "  </svg>\n",
              "      </button>\n",
              "      \n",
              "  <style>\n",
              "    .colab-df-container {\n",
              "      display:flex;\n",
              "      flex-wrap:wrap;\n",
              "      gap: 12px;\n",
              "    }\n",
              "\n",
              "    .colab-df-convert {\n",
              "      background-color: #E8F0FE;\n",
              "      border: none;\n",
              "      border-radius: 50%;\n",
              "      cursor: pointer;\n",
              "      display: none;\n",
              "      fill: #1967D2;\n",
              "      height: 32px;\n",
              "      padding: 0 0 0 0;\n",
              "      width: 32px;\n",
              "    }\n",
              "\n",
              "    .colab-df-convert:hover {\n",
              "      background-color: #E2EBFA;\n",
              "      box-shadow: 0px 1px 2px rgba(60, 64, 67, 0.3), 0px 1px 3px 1px rgba(60, 64, 67, 0.15);\n",
              "      fill: #174EA6;\n",
              "    }\n",
              "\n",
              "    [theme=dark] .colab-df-convert {\n",
              "      background-color: #3B4455;\n",
              "      fill: #D2E3FC;\n",
              "    }\n",
              "\n",
              "    [theme=dark] .colab-df-convert:hover {\n",
              "      background-color: #434B5C;\n",
              "      box-shadow: 0px 1px 3px 1px rgba(0, 0, 0, 0.15);\n",
              "      filter: drop-shadow(0px 1px 2px rgba(0, 0, 0, 0.3));\n",
              "      fill: #FFFFFF;\n",
              "    }\n",
              "  </style>\n",
              "\n",
              "      <script>\n",
              "        const buttonEl =\n",
              "          document.querySelector('#df-406bfd29-4703-4461-afaa-89633a3c86d1 button.colab-df-convert');\n",
              "        buttonEl.style.display =\n",
              "          google.colab.kernel.accessAllowed ? 'block' : 'none';\n",
              "\n",
              "        async function convertToInteractive(key) {\n",
              "          const element = document.querySelector('#df-406bfd29-4703-4461-afaa-89633a3c86d1');\n",
              "          const dataTable =\n",
              "            await google.colab.kernel.invokeFunction('convertToInteractive',\n",
              "                                                     [key], {});\n",
              "          if (!dataTable) return;\n",
              "\n",
              "          const docLinkHtml = 'Like what you see? Visit the ' +\n",
              "            '<a target=\"_blank\" href=https://colab.research.google.com/notebooks/data_table.ipynb>data table notebook</a>'\n",
              "            + ' to learn more about interactive tables.';\n",
              "          element.innerHTML = '';\n",
              "          dataTable['output_type'] = 'display_data';\n",
              "          await google.colab.output.renderOutput(dataTable, element);\n",
              "          const docLink = document.createElement('div');\n",
              "          docLink.innerHTML = docLinkHtml;\n",
              "          element.appendChild(docLink);\n",
              "        }\n",
              "      </script>\n",
              "    </div>\n",
              "  </div>\n",
              "  "
            ]
          },
          "metadata": {},
          "execution_count": 119
        }
      ]
    },
    {
      "cell_type": "markdown",
      "source": [
        "**Missing Values**"
      ],
      "metadata": {
        "id": "01QYvrL1iTL6"
      }
    },
    {
      "cell_type": "code",
      "source": [
        "count= (data['LV ActivePower (kW)']==0).sum() # LV ActivePower is the output variable\n",
        "print('the number of zero entries are=',count)  "
      ],
      "metadata": {
        "colab": {
          "base_uri": "https://localhost:8080/"
        },
        "id": "tmDfsPoQhypC",
        "outputId": "0c5db397-9062-404d-b51d-abaea7fcb9f8"
      },
      "execution_count": 120,
      "outputs": [
        {
          "output_type": "stream",
          "name": "stdout",
          "text": [
            "the number of zero entries are= 0\n"
          ]
        }
      ]
    },
    {
      "cell_type": "code",
      "source": [
        "data.replace(0,np.nan, inplace=True) # replacing zero with nan to implement interpolation"
      ],
      "metadata": {
        "id": "FveyJRt4iwuB"
      },
      "execution_count": 121,
      "outputs": []
    },
    {
      "cell_type": "code",
      "source": [
        "data1=data.interpolate(method='linear')"
      ],
      "metadata": {
        "id": "XG1FVhlUgLF0"
      },
      "execution_count": 144,
      "outputs": []
    },
    {
      "cell_type": "code",
      "source": [
        "count= (data1['LV ActivePower (kW)']==0).sum() # LV ActivePower is the output variable\n",
        "print('the number of zero entries are=',count)  "
      ],
      "metadata": {
        "colab": {
          "base_uri": "https://localhost:8080/"
        },
        "id": "HuiWwANlirVN",
        "outputId": "f3802db7-d712-4a68-f962-11e26cb8c884"
      },
      "execution_count": 145,
      "outputs": [
        {
          "output_type": "stream",
          "name": "stdout",
          "text": [
            "the number of zero entries are= 0\n"
          ]
        }
      ]
    },
    {
      "cell_type": "code",
      "source": [
        "data1"
      ],
      "metadata": {
        "colab": {
          "base_uri": "https://localhost:8080/",
          "height": 424
        },
        "id": "PEABQQDXg0FH",
        "outputId": "02724a4a-9dcc-43c4-d372-601e9e76e3aa"
      },
      "execution_count": 124,
      "outputs": [
        {
          "output_type": "execute_result",
          "data": {
            "text/plain": [
              "              Date/Time  ...  Wind Direction (°)\n",
              "0      01 01 2018 00:00  ...          259.994904\n",
              "1      01 01 2018 00:10  ...          268.641113\n",
              "2      01 01 2018 00:20  ...          272.564789\n",
              "3      01 01 2018 00:30  ...          271.258087\n",
              "4      01 01 2018 00:40  ...          265.674286\n",
              "...                 ...  ...                 ...\n",
              "50525  31 12 2018 23:10  ...           80.502724\n",
              "50526  31 12 2018 23:20  ...           84.062599\n",
              "50527  31 12 2018 23:30  ...           84.742500\n",
              "50528  31 12 2018 23:40  ...           84.297913\n",
              "50529  31 12 2018 23:50  ...           82.274620\n",
              "\n",
              "[50530 rows x 5 columns]"
            ],
            "text/html": [
              "\n",
              "  <div id=\"df-ee7ba533-ed19-4027-913f-ef3ed005fdd3\">\n",
              "    <div class=\"colab-df-container\">\n",
              "      <div>\n",
              "<style scoped>\n",
              "    .dataframe tbody tr th:only-of-type {\n",
              "        vertical-align: middle;\n",
              "    }\n",
              "\n",
              "    .dataframe tbody tr th {\n",
              "        vertical-align: top;\n",
              "    }\n",
              "\n",
              "    .dataframe thead th {\n",
              "        text-align: right;\n",
              "    }\n",
              "</style>\n",
              "<table border=\"1\" class=\"dataframe\">\n",
              "  <thead>\n",
              "    <tr style=\"text-align: right;\">\n",
              "      <th></th>\n",
              "      <th>Date/Time</th>\n",
              "      <th>LV ActivePower (kW)</th>\n",
              "      <th>Wind Speed (m/s)</th>\n",
              "      <th>Theoretical_Power_Curve (KWh)</th>\n",
              "      <th>Wind Direction (°)</th>\n",
              "    </tr>\n",
              "  </thead>\n",
              "  <tbody>\n",
              "    <tr>\n",
              "      <th>0</th>\n",
              "      <td>01 01 2018 00:00</td>\n",
              "      <td>380.047791</td>\n",
              "      <td>5.311336</td>\n",
              "      <td>416.328908</td>\n",
              "      <td>259.994904</td>\n",
              "    </tr>\n",
              "    <tr>\n",
              "      <th>1</th>\n",
              "      <td>01 01 2018 00:10</td>\n",
              "      <td>453.769196</td>\n",
              "      <td>5.672167</td>\n",
              "      <td>519.917511</td>\n",
              "      <td>268.641113</td>\n",
              "    </tr>\n",
              "    <tr>\n",
              "      <th>2</th>\n",
              "      <td>01 01 2018 00:20</td>\n",
              "      <td>306.376587</td>\n",
              "      <td>5.216037</td>\n",
              "      <td>390.900016</td>\n",
              "      <td>272.564789</td>\n",
              "    </tr>\n",
              "    <tr>\n",
              "      <th>3</th>\n",
              "      <td>01 01 2018 00:30</td>\n",
              "      <td>419.645905</td>\n",
              "      <td>5.659674</td>\n",
              "      <td>516.127569</td>\n",
              "      <td>271.258087</td>\n",
              "    </tr>\n",
              "    <tr>\n",
              "      <th>4</th>\n",
              "      <td>01 01 2018 00:40</td>\n",
              "      <td>380.650696</td>\n",
              "      <td>5.577941</td>\n",
              "      <td>491.702972</td>\n",
              "      <td>265.674286</td>\n",
              "    </tr>\n",
              "    <tr>\n",
              "      <th>...</th>\n",
              "      <td>...</td>\n",
              "      <td>...</td>\n",
              "      <td>...</td>\n",
              "      <td>...</td>\n",
              "      <td>...</td>\n",
              "    </tr>\n",
              "    <tr>\n",
              "      <th>50525</th>\n",
              "      <td>31 12 2018 23:10</td>\n",
              "      <td>2963.980957</td>\n",
              "      <td>11.404030</td>\n",
              "      <td>3397.190793</td>\n",
              "      <td>80.502724</td>\n",
              "    </tr>\n",
              "    <tr>\n",
              "      <th>50526</th>\n",
              "      <td>31 12 2018 23:20</td>\n",
              "      <td>1684.353027</td>\n",
              "      <td>7.332648</td>\n",
              "      <td>1173.055771</td>\n",
              "      <td>84.062599</td>\n",
              "    </tr>\n",
              "    <tr>\n",
              "      <th>50527</th>\n",
              "      <td>31 12 2018 23:30</td>\n",
              "      <td>2201.106934</td>\n",
              "      <td>8.435358</td>\n",
              "      <td>1788.284755</td>\n",
              "      <td>84.742500</td>\n",
              "    </tr>\n",
              "    <tr>\n",
              "      <th>50528</th>\n",
              "      <td>31 12 2018 23:40</td>\n",
              "      <td>2515.694092</td>\n",
              "      <td>9.421366</td>\n",
              "      <td>2418.382503</td>\n",
              "      <td>84.297913</td>\n",
              "    </tr>\n",
              "    <tr>\n",
              "      <th>50529</th>\n",
              "      <td>31 12 2018 23:50</td>\n",
              "      <td>2820.466064</td>\n",
              "      <td>9.979332</td>\n",
              "      <td>2779.184096</td>\n",
              "      <td>82.274620</td>\n",
              "    </tr>\n",
              "  </tbody>\n",
              "</table>\n",
              "<p>50530 rows × 5 columns</p>\n",
              "</div>\n",
              "      <button class=\"colab-df-convert\" onclick=\"convertToInteractive('df-ee7ba533-ed19-4027-913f-ef3ed005fdd3')\"\n",
              "              title=\"Convert this dataframe to an interactive table.\"\n",
              "              style=\"display:none;\">\n",
              "        \n",
              "  <svg xmlns=\"http://www.w3.org/2000/svg\" height=\"24px\"viewBox=\"0 0 24 24\"\n",
              "       width=\"24px\">\n",
              "    <path d=\"M0 0h24v24H0V0z\" fill=\"none\"/>\n",
              "    <path d=\"M18.56 5.44l.94 2.06.94-2.06 2.06-.94-2.06-.94-.94-2.06-.94 2.06-2.06.94zm-11 1L8.5 8.5l.94-2.06 2.06-.94-2.06-.94L8.5 2.5l-.94 2.06-2.06.94zm10 10l.94 2.06.94-2.06 2.06-.94-2.06-.94-.94-2.06-.94 2.06-2.06.94z\"/><path d=\"M17.41 7.96l-1.37-1.37c-.4-.4-.92-.59-1.43-.59-.52 0-1.04.2-1.43.59L10.3 9.45l-7.72 7.72c-.78.78-.78 2.05 0 2.83L4 21.41c.39.39.9.59 1.41.59.51 0 1.02-.2 1.41-.59l7.78-7.78 2.81-2.81c.8-.78.8-2.07 0-2.86zM5.41 20L4 18.59l7.72-7.72 1.47 1.35L5.41 20z\"/>\n",
              "  </svg>\n",
              "      </button>\n",
              "      \n",
              "  <style>\n",
              "    .colab-df-container {\n",
              "      display:flex;\n",
              "      flex-wrap:wrap;\n",
              "      gap: 12px;\n",
              "    }\n",
              "\n",
              "    .colab-df-convert {\n",
              "      background-color: #E8F0FE;\n",
              "      border: none;\n",
              "      border-radius: 50%;\n",
              "      cursor: pointer;\n",
              "      display: none;\n",
              "      fill: #1967D2;\n",
              "      height: 32px;\n",
              "      padding: 0 0 0 0;\n",
              "      width: 32px;\n",
              "    }\n",
              "\n",
              "    .colab-df-convert:hover {\n",
              "      background-color: #E2EBFA;\n",
              "      box-shadow: 0px 1px 2px rgba(60, 64, 67, 0.3), 0px 1px 3px 1px rgba(60, 64, 67, 0.15);\n",
              "      fill: #174EA6;\n",
              "    }\n",
              "\n",
              "    [theme=dark] .colab-df-convert {\n",
              "      background-color: #3B4455;\n",
              "      fill: #D2E3FC;\n",
              "    }\n",
              "\n",
              "    [theme=dark] .colab-df-convert:hover {\n",
              "      background-color: #434B5C;\n",
              "      box-shadow: 0px 1px 3px 1px rgba(0, 0, 0, 0.15);\n",
              "      filter: drop-shadow(0px 1px 2px rgba(0, 0, 0, 0.3));\n",
              "      fill: #FFFFFF;\n",
              "    }\n",
              "  </style>\n",
              "\n",
              "      <script>\n",
              "        const buttonEl =\n",
              "          document.querySelector('#df-ee7ba533-ed19-4027-913f-ef3ed005fdd3 button.colab-df-convert');\n",
              "        buttonEl.style.display =\n",
              "          google.colab.kernel.accessAllowed ? 'block' : 'none';\n",
              "\n",
              "        async function convertToInteractive(key) {\n",
              "          const element = document.querySelector('#df-ee7ba533-ed19-4027-913f-ef3ed005fdd3');\n",
              "          const dataTable =\n",
              "            await google.colab.kernel.invokeFunction('convertToInteractive',\n",
              "                                                     [key], {});\n",
              "          if (!dataTable) return;\n",
              "\n",
              "          const docLinkHtml = 'Like what you see? Visit the ' +\n",
              "            '<a target=\"_blank\" href=https://colab.research.google.com/notebooks/data_table.ipynb>data table notebook</a>'\n",
              "            + ' to learn more about interactive tables.';\n",
              "          element.innerHTML = '';\n",
              "          dataTable['output_type'] = 'display_data';\n",
              "          await google.colab.output.renderOutput(dataTable, element);\n",
              "          const docLink = document.createElement('div');\n",
              "          docLink.innerHTML = docLinkHtml;\n",
              "          element.appendChild(docLink);\n",
              "        }\n",
              "      </script>\n",
              "    </div>\n",
              "  </div>\n",
              "  "
            ]
          },
          "metadata": {},
          "execution_count": 124
        }
      ]
    },
    {
      "cell_type": "code",
      "source": [
        "data1.info()"
      ],
      "metadata": {
        "colab": {
          "base_uri": "https://localhost:8080/"
        },
        "id": "oUQ5dC-ChtQA",
        "outputId": "7c65d5e9-6974-4331-8780-2f0ef106a450"
      },
      "execution_count": 125,
      "outputs": [
        {
          "output_type": "stream",
          "name": "stdout",
          "text": [
            "<class 'pandas.core.frame.DataFrame'>\n",
            "RangeIndex: 50530 entries, 0 to 50529\n",
            "Data columns (total 5 columns):\n",
            " #   Column                         Non-Null Count  Dtype  \n",
            "---  ------                         --------------  -----  \n",
            " 0   Date/Time                      50530 non-null  object \n",
            " 1   LV ActivePower (kW)            50530 non-null  float64\n",
            " 2   Wind Speed (m/s)               50530 non-null  float64\n",
            " 3   Theoretical_Power_Curve (KWh)  50530 non-null  float64\n",
            " 4   Wind Direction (°)             50530 non-null  float64\n",
            "dtypes: float64(4), object(1)\n",
            "memory usage: 1.9+ MB\n"
          ]
        }
      ]
    },
    {
      "cell_type": "code",
      "source": [
        "data1['Date/Time']=pd.to_datetime(data1['Date/Time'], infer_datetime_format=True)"
      ],
      "metadata": {
        "id": "lWcHBHNIjNOW"
      },
      "execution_count": 126,
      "outputs": []
    },
    {
      "cell_type": "code",
      "source": [
        "data1.info()"
      ],
      "metadata": {
        "colab": {
          "base_uri": "https://localhost:8080/"
        },
        "id": "wlCpqv1okGlR",
        "outputId": "079ada6f-fc3c-4512-fd02-6b22e3dfd6a4"
      },
      "execution_count": 127,
      "outputs": [
        {
          "output_type": "stream",
          "name": "stdout",
          "text": [
            "<class 'pandas.core.frame.DataFrame'>\n",
            "RangeIndex: 50530 entries, 0 to 50529\n",
            "Data columns (total 5 columns):\n",
            " #   Column                         Non-Null Count  Dtype         \n",
            "---  ------                         --------------  -----         \n",
            " 0   Date/Time                      50530 non-null  datetime64[ns]\n",
            " 1   LV ActivePower (kW)            50530 non-null  float64       \n",
            " 2   Wind Speed (m/s)               50530 non-null  float64       \n",
            " 3   Theoretical_Power_Curve (KWh)  50530 non-null  float64       \n",
            " 4   Wind Direction (°)             50530 non-null  float64       \n",
            "dtypes: datetime64[ns](1), float64(4)\n",
            "memory usage: 1.9 MB\n"
          ]
        }
      ]
    },
    {
      "cell_type": "code",
      "source": [
        "data1.set_index('Date/Time')['LV ActivePower (kW)'].plot()"
      ],
      "metadata": {
        "colab": {
          "base_uri": "https://localhost:8080/",
          "height": 490
        },
        "id": "7pCLm1nIkKcl",
        "outputId": "69488766-d6fe-43bd-d61e-0953d1db6338"
      },
      "execution_count": 128,
      "outputs": [
        {
          "output_type": "execute_result",
          "data": {
            "text/plain": [
              "<matplotlib.axes._subplots.AxesSubplot at 0x7f065e44bf70>"
            ]
          },
          "metadata": {},
          "execution_count": 128
        },
        {
          "output_type": "display_data",
          "data": {
            "text/plain": [
              "<Figure size 720x576 with 1 Axes>"
            ],
            "image/png": "[encoded data removed]"
          },
          "metadata": {
            "needs_background": "light"
          }
        }
      ]
    },
    {
      "cell_type": "code",
      "source": [
        "data1.set_index('Date/Time')[['LV ActivePower (kW)','Wind Speed (m/s)', 'Theoretical_Power_Curve (KWh)','Wind Direction (°)']].plot(subplots=True)"
      ],
      "metadata": {
        "colab": {
          "base_uri": "https://localhost:8080/",
          "height": 560
        },
        "id": "U6LfqcrjkbvW",
        "outputId": "6bc4323b-2a3d-4545-bc89-aa25257d4290"
      },
      "execution_count": 129,
      "outputs": [
        {
          "output_type": "execute_result",
          "data": {
            "text/plain": [
              "array([<matplotlib.axes._subplots.AxesSubplot object at 0x7f065de08ac0>,\n",
              "       <matplotlib.axes._subplots.AxesSubplot object at 0x7f065dda7d00>,\n",
              "       <matplotlib.axes._subplots.AxesSubplot object at 0x7f065ddc6f10>,\n",
              "       <matplotlib.axes._subplots.AxesSubplot object at 0x7f065dd7d070>],\n",
              "      dtype=object)"
            ]
          },
          "metadata": {},
          "execution_count": 129
        },
        {
          "output_type": "display_data",
          "data": {
            "text/plain": [
              "<Figure size 720x576 with 4 Axes>"
            ],
            "image/png": "[encoded data removed]"
          },
          "metadata": {
            "needs_background": "light"
          }
        }
      ]
    },
    {
      "cell_type": "markdown",
      "source": [
        "**Correlation between different Columns**"
      ],
      "metadata": {
        "id": "S5CbNsYTm-vD"
      }
    },
    {
      "cell_type": "code",
      "source": [
        "Corr1=data1['LV ActivePower (kW)'].corr(data1['Theoretical_Power_Curve (KWh)'])\n",
        "Corr1\n"
      ],
      "metadata": {
        "colab": {
          "base_uri": "https://localhost:8080/"
        },
        "id": "yNgEFzMwk9gT",
        "outputId": "b40d2848-554f-4d1c-85eb-a4ec00bf60ff"
      },
      "execution_count": 101,
      "outputs": [
        {
          "output_type": "execute_result",
          "data": {
            "text/plain": [
              "0.9598142197519528"
            ]
          },
          "metadata": {},
          "execution_count": 101
        }
      ]
    },
    {
      "cell_type": "code",
      "source": [
        "Corr2=data1['LV ActivePower (kW)'].corr(data1['Wind Speed (m/s)'])\n",
        "Corr2"
      ],
      "metadata": {
        "colab": {
          "base_uri": "https://localhost:8080/"
        },
        "id": "vDRIQHITnL2S",
        "outputId": "10afa336-5d57-4b07-aef2-2766231afe42"
      },
      "execution_count": 102,
      "outputs": [
        {
          "output_type": "execute_result",
          "data": {
            "text/plain": [
              "0.9203132595981728"
            ]
          },
          "metadata": {},
          "execution_count": 102
        }
      ]
    },
    {
      "cell_type": "code",
      "source": [
        "Corr3=data1['LV ActivePower (kW)'].corr(data1['Wind Direction (°)'])\n",
        "Corr3"
      ],
      "metadata": {
        "colab": {
          "base_uri": "https://localhost:8080/"
        },
        "id": "HwNu0tcTnYIQ",
        "outputId": "b50b36c5-39aa-4198-ad54-dd61cbe2c338"
      },
      "execution_count": 103,
      "outputs": [
        {
          "output_type": "execute_result",
          "data": {
            "text/plain": [
              "-0.06280948327199623"
            ]
          },
          "metadata": {},
          "execution_count": 103
        }
      ]
    },
    {
      "cell_type": "markdown",
      "source": [
        "Negative Correlation indicate inverse relation"
      ],
      "metadata": {
        "id": "7JbIm2Gdr6Q0"
      }
    },
    {
      "cell_type": "code",
      "source": [
        "df_input = data1[['LV ActivePower (kW)','Wind Speed (m/s)','Theoretical_Power_Curve (KWh)','Wind Direction (°)']] # remove date"
      ],
      "metadata": {
        "id": "yTw9xAOi1Etc"
      },
      "execution_count": 155,
      "outputs": []
    },
    {
      "cell_type": "code",
      "source": [
        "df_input"
      ],
      "metadata": {
        "colab": {
          "base_uri": "https://localhost:8080/",
          "height": 424
        },
        "id": "b6xxfHEN7Xt0",
        "outputId": "d631fbe0-761f-42a9-939f-6e888424300c"
      },
      "execution_count": 156,
      "outputs": [
        {
          "output_type": "execute_result",
          "data": {
            "text/plain": [
              "       LV ActivePower (kW)  ...  Wind Direction (°)\n",
              "0               380.047791  ...          259.994904\n",
              "1               453.769196  ...          268.641113\n",
              "2               306.376587  ...          272.564789\n",
              "3               419.645905  ...          271.258087\n",
              "4               380.650696  ...          265.674286\n",
              "...                    ...  ...                 ...\n",
              "50525          2963.980957  ...           80.502724\n",
              "50526          1684.353027  ...           84.062599\n",
              "50527          2201.106934  ...           84.742500\n",
              "50528          2515.694092  ...           84.297913\n",
              "50529          2820.466064  ...           82.274620\n",
              "\n",
              "[50530 rows x 4 columns]"
            ],
            "text/html": [
              "\n",
              "  <div id=\"df-83ccf833-12ae-414e-a391-d5108ab47a42\">\n",
              "    <div class=\"colab-df-container\">\n",
              "      <div>\n",
              "<style scoped>\n",
              "    .dataframe tbody tr th:only-of-type {\n",
              "        vertical-align: middle;\n",
              "    }\n",
              "\n",
              "    .dataframe tbody tr th {\n",
              "        vertical-align: top;\n",
              "    }\n",
              "\n",
              "    .dataframe thead th {\n",
              "        text-align: right;\n",
              "    }\n",
              "</style>\n",
              "<table border=\"1\" class=\"dataframe\">\n",
              "  <thead>\n",
              "    <tr style=\"text-align: right;\">\n",
              "      <th></th>\n",
              "      <th>LV ActivePower (kW)</th>\n",
              "      <th>Wind Speed (m/s)</th>\n",
              "      <th>Theoretical_Power_Curve (KWh)</th>\n",
              "      <th>Wind Direction (°)</th>\n",
              "    </tr>\n",
              "  </thead>\n",
              "  <tbody>\n",
              "    <tr>\n",
              "      <th>0</th>\n",
              "      <td>380.047791</td>\n",
              "      <td>5.311336</td>\n",
              "      <td>416.328908</td>\n",
              "      <td>259.994904</td>\n",
              "    </tr>\n",
              "    <tr>\n",
              "      <th>1</th>\n",
              "      <td>453.769196</td>\n",
              "      <td>5.672167</td>\n",
              "      <td>519.917511</td>\n",
              "      <td>268.641113</td>\n",
              "    </tr>\n",
              "    <tr>\n",
              "      <th>2</th>\n",
              "      <td>306.376587</td>\n",
              "      <td>5.216037</td>\n",
              "      <td>390.900016</td>\n",
              "      <td>272.564789</td>\n",
              "    </tr>\n",
              "    <tr>\n",
              "      <th>3</th>\n",
              "      <td>419.645905</td>\n",
              "      <td>5.659674</td>\n",
              "      <td>516.127569</td>\n",
              "      <td>271.258087</td>\n",
              "    </tr>\n",
              "    <tr>\n",
              "      <th>4</th>\n",
              "      <td>380.650696</td>\n",
              "      <td>5.577941</td>\n",
              "      <td>491.702972</td>\n",
              "      <td>265.674286</td>\n",
              "    </tr>\n",
              "    <tr>\n",
              "      <th>...</th>\n",
              "      <td>...</td>\n",
              "      <td>...</td>\n",
              "      <td>...</td>\n",
              "      <td>...</td>\n",
              "    </tr>\n",
              "    <tr>\n",
              "      <th>50525</th>\n",
              "      <td>2963.980957</td>\n",
              "      <td>11.404030</td>\n",
              "      <td>3397.190793</td>\n",
              "      <td>80.502724</td>\n",
              "    </tr>\n",
              "    <tr>\n",
              "      <th>50526</th>\n",
              "      <td>1684.353027</td>\n",
              "      <td>7.332648</td>\n",
              "      <td>1173.055771</td>\n",
              "      <td>84.062599</td>\n",
              "    </tr>\n",
              "    <tr>\n",
              "      <th>50527</th>\n",
              "      <td>2201.106934</td>\n",
              "      <td>8.435358</td>\n",
              "      <td>1788.284755</td>\n",
              "      <td>84.742500</td>\n",
              "    </tr>\n",
              "    <tr>\n",
              "      <th>50528</th>\n",
              "      <td>2515.694092</td>\n",
              "      <td>9.421366</td>\n",
              "      <td>2418.382503</td>\n",
              "      <td>84.297913</td>\n",
              "    </tr>\n",
              "    <tr>\n",
              "      <th>50529</th>\n",
              "      <td>2820.466064</td>\n",
              "      <td>9.979332</td>\n",
              "      <td>2779.184096</td>\n",
              "      <td>82.274620</td>\n",
              "    </tr>\n",
              "  </tbody>\n",
              "</table>\n",
              "<p>50530 rows × 4 columns</p>\n",
              "</div>\n",
              "      <button class=\"colab-df-convert\" onclick=\"convertToInteractive('df-83ccf833-12ae-414e-a391-d5108ab47a42')\"\n",
              "              title=\"Convert this dataframe to an interactive table.\"\n",
              "              style=\"display:none;\">\n",
              "        \n",
              "  <svg xmlns=\"http://www.w3.org/2000/svg\" height=\"24px\"viewBox=\"0 0 24 24\"\n",
              "       width=\"24px\">\n",
              "    <path d=\"M0 0h24v24H0V0z\" fill=\"none\"/>\n",
              "    <path d=\"M18.56 5.44l.94 2.06.94-2.06 2.06-.94-2.06-.94-.94-2.06-.94 2.06-2.06.94zm-11 1L8.5 8.5l.94-2.06 2.06-.94-2.06-.94L8.5 2.5l-.94 2.06-2.06.94zm10 10l.94 2.06.94-2.06 2.06-.94-2.06-.94-.94-2.06-.94 2.06-2.06.94z\"/><path d=\"M17.41 7.96l-1.37-1.37c-.4-.4-.92-.59-1.43-.59-.52 0-1.04.2-1.43.59L10.3 9.45l-7.72 7.72c-.78.78-.78 2.05 0 2.83L4 21.41c.39.39.9.59 1.41.59.51 0 1.02-.2 1.41-.59l7.78-7.78 2.81-2.81c.8-.78.8-2.07 0-2.86zM5.41 20L4 18.59l7.72-7.72 1.47 1.35L5.41 20z\"/>\n",
              "  </svg>\n",
              "      </button>\n",
              "      \n",
              "  <style>\n",
              "    .colab-df-container {\n",
              "      display:flex;\n",
              "      flex-wrap:wrap;\n",
              "      gap: 12px;\n",
              "    }\n",
              "\n",
              "    .colab-df-convert {\n",
              "      background-color: #E8F0FE;\n",
              "      border: none;\n",
              "      border-radius: 50%;\n",
              "      cursor: pointer;\n",
              "      display: none;\n",
              "      fill: #1967D2;\n",
              "      height: 32px;\n",
              "      padding: 0 0 0 0;\n",
              "      width: 32px;\n",
              "    }\n",
              "\n",
              "    .colab-df-convert:hover {\n",
              "      background-color: #E2EBFA;\n",
              "      box-shadow: 0px 1px 2px rgba(60, 64, 67, 0.3), 0px 1px 3px 1px rgba(60, 64, 67, 0.15);\n",
              "      fill: #174EA6;\n",
              "    }\n",
              "\n",
              "    [theme=dark] .colab-df-convert {\n",
              "      background-color: #3B4455;\n",
              "      fill: #D2E3FC;\n",
              "    }\n",
              "\n",
              "    [theme=dark] .colab-df-convert:hover {\n",
              "      background-color: #434B5C;\n",
              "      box-shadow: 0px 1px 3px 1px rgba(0, 0, 0, 0.15);\n",
              "      filter: drop-shadow(0px 1px 2px rgba(0, 0, 0, 0.3));\n",
              "      fill: #FFFFFF;\n",
              "    }\n",
              "  </style>\n",
              "\n",
              "      <script>\n",
              "        const buttonEl =\n",
              "          document.querySelector('#df-83ccf833-12ae-414e-a391-d5108ab47a42 button.colab-df-convert');\n",
              "        buttonEl.style.display =\n",
              "          google.colab.kernel.accessAllowed ? 'block' : 'none';\n",
              "\n",
              "        async function convertToInteractive(key) {\n",
              "          const element = document.querySelector('#df-83ccf833-12ae-414e-a391-d5108ab47a42');\n",
              "          const dataTable =\n",
              "            await google.colab.kernel.invokeFunction('convertToInteractive',\n",
              "                                                     [key], {});\n",
              "          if (!dataTable) return;\n",
              "\n",
              "          const docLinkHtml = 'Like what you see? Visit the ' +\n",
              "            '<a target=\"_blank\" href=https://colab.research.google.com/notebooks/data_table.ipynb>data table notebook</a>'\n",
              "            + ' to learn more about interactive tables.';\n",
              "          element.innerHTML = '';\n",
              "          dataTable['output_type'] = 'display_data';\n",
              "          await google.colab.output.renderOutput(dataTable, element);\n",
              "          const docLink = document.createElement('div');\n",
              "          docLink.innerHTML = docLinkHtml;\n",
              "          element.appendChild(docLink);\n",
              "        }\n",
              "      </script>\n",
              "    </div>\n",
              "  </div>\n",
              "  "
            ]
          },
          "metadata": {},
          "execution_count": 156
        }
      ]
    },
    {
      "cell_type": "code",
      "source": [
        "df_input.describe() # it shows that the data has some outliers"
      ],
      "metadata": {
        "colab": {
          "base_uri": "https://localhost:8080/",
          "height": 300
        },
        "id": "znbmUpSi1GJZ",
        "outputId": "fee095b7-a2ca-4419-b6f6-a9daeab56b01"
      },
      "execution_count": 157,
      "outputs": [
        {
          "output_type": "execute_result",
          "data": {
            "text/plain": [
              "       LV ActivePower (kW)  ...  Wind Direction (°)\n",
              "count         50530.000000  ...        50530.000000\n",
              "mean           1327.534715  ...          123.917788\n",
              "std            1298.482165  ...           93.399643\n",
              "min              -2.471405  ...            0.015678\n",
              "25%             115.482527  ...           49.499437\n",
              "50%             846.710602  ...           73.871109\n",
              "75%            2484.386536  ...          201.762730\n",
              "max            3618.732910  ...          359.997589\n",
              "\n",
              "[8 rows x 4 columns]"
            ],
            "text/html": [
              "\n",
              "  <div id=\"df-2580c1ae-2f54-441c-9730-2696acc24448\">\n",
              "    <div class=\"colab-df-container\">\n",
              "      <div>\n",
              "<style scoped>\n",
              "    .dataframe tbody tr th:only-of-type {\n",
              "        vertical-align: middle;\n",
              "    }\n",
              "\n",
              "    .dataframe tbody tr th {\n",
              "        vertical-align: top;\n",
              "    }\n",
              "\n",
              "    .dataframe thead th {\n",
              "        text-align: right;\n",
              "    }\n",
              "</style>\n",
              "<table border=\"1\" class=\"dataframe\">\n",
              "  <thead>\n",
              "    <tr style=\"text-align: right;\">\n",
              "      <th></th>\n",
              "      <th>LV ActivePower (kW)</th>\n",
              "      <th>Wind Speed (m/s)</th>\n",
              "      <th>Theoretical_Power_Curve (KWh)</th>\n",
              "      <th>Wind Direction (°)</th>\n",
              "    </tr>\n",
              "  </thead>\n",
              "  <tbody>\n",
              "    <tr>\n",
              "      <th>count</th>\n",
              "      <td>50530.000000</td>\n",
              "      <td>50530.000000</td>\n",
              "      <td>50530.000000</td>\n",
              "      <td>50530.000000</td>\n",
              "    </tr>\n",
              "    <tr>\n",
              "      <th>mean</th>\n",
              "      <td>1327.534715</td>\n",
              "      <td>7.559676</td>\n",
              "      <td>1499.834048</td>\n",
              "      <td>123.917788</td>\n",
              "    </tr>\n",
              "    <tr>\n",
              "      <th>std</th>\n",
              "      <td>1298.482165</td>\n",
              "      <td>4.226243</td>\n",
              "      <td>1360.283251</td>\n",
              "      <td>93.399643</td>\n",
              "    </tr>\n",
              "    <tr>\n",
              "      <th>min</th>\n",
              "      <td>-2.471405</td>\n",
              "      <td>0.205178</td>\n",
              "      <td>16.021926</td>\n",
              "      <td>0.015678</td>\n",
              "    </tr>\n",
              "    <tr>\n",
              "      <th>25%</th>\n",
              "      <td>115.482527</td>\n",
              "      <td>4.203229</td>\n",
              "      <td>168.248670</td>\n",
              "      <td>49.499437</td>\n",
              "    </tr>\n",
              "    <tr>\n",
              "      <th>50%</th>\n",
              "      <td>846.710602</td>\n",
              "      <td>7.105505</td>\n",
              "      <td>1064.642921</td>\n",
              "      <td>73.871109</td>\n",
              "    </tr>\n",
              "    <tr>\n",
              "      <th>75%</th>\n",
              "      <td>2484.386536</td>\n",
              "      <td>10.300603</td>\n",
              "      <td>2965.282435</td>\n",
              "      <td>201.762730</td>\n",
              "    </tr>\n",
              "    <tr>\n",
              "      <th>max</th>\n",
              "      <td>3618.732910</td>\n",
              "      <td>25.206011</td>\n",
              "      <td>3600.000000</td>\n",
              "      <td>359.997589</td>\n",
              "    </tr>\n",
              "  </tbody>\n",
              "</table>\n",
              "</div>\n",
              "      <button class=\"colab-df-convert\" onclick=\"convertToInteractive('df-2580c1ae-2f54-441c-9730-2696acc24448')\"\n",
              "              title=\"Convert this dataframe to an interactive table.\"\n",
              "              style=\"display:none;\">\n",
              "        \n",
              "  <svg xmlns=\"http://www.w3.org/2000/svg\" height=\"24px\"viewBox=\"0 0 24 24\"\n",
              "       width=\"24px\">\n",
              "    <path d=\"M0 0h24v24H0V0z\" fill=\"none\"/>\n",
              "    <path d=\"M18.56 5.44l.94 2.06.94-2.06 2.06-.94-2.06-.94-.94-2.06-.94 2.06-2.06.94zm-11 1L8.5 8.5l.94-2.06 2.06-.94-2.06-.94L8.5 2.5l-.94 2.06-2.06.94zm10 10l.94 2.06.94-2.06 2.06-.94-2.06-.94-.94-2.06-.94 2.06-2.06.94z\"/><path d=\"M17.41 7.96l-1.37-1.37c-.4-.4-.92-.59-1.43-.59-.52 0-1.04.2-1.43.59L10.3 9.45l-7.72 7.72c-.78.78-.78 2.05 0 2.83L4 21.41c.39.39.9.59 1.41.59.51 0 1.02-.2 1.41-.59l7.78-7.78 2.81-2.81c.8-.78.8-2.07 0-2.86zM5.41 20L4 18.59l7.72-7.72 1.47 1.35L5.41 20z\"/>\n",
              "  </svg>\n",
              "      </button>\n",
              "      \n",
              "  <style>\n",
              "    .colab-df-container {\n",
              "      display:flex;\n",
              "      flex-wrap:wrap;\n",
              "      gap: 12px;\n",
              "    }\n",
              "\n",
              "    .colab-df-convert {\n",
              "      background-color: #E8F0FE;\n",
              "      border: none;\n",
              "      border-radius: 50%;\n",
              "      cursor: pointer;\n",
              "      display: none;\n",
              "      fill: #1967D2;\n",
              "      height: 32px;\n",
              "      padding: 0 0 0 0;\n",
              "      width: 32px;\n",
              "    }\n",
              "\n",
              "    .colab-df-convert:hover {\n",
              "      background-color: #E2EBFA;\n",
              "      box-shadow: 0px 1px 2px rgba(60, 64, 67, 0.3), 0px 1px 3px 1px rgba(60, 64, 67, 0.15);\n",
              "      fill: #174EA6;\n",
              "    }\n",
              "\n",
              "    [theme=dark] .colab-df-convert {\n",
              "      background-color: #3B4455;\n",
              "      fill: #D2E3FC;\n",
              "    }\n",
              "\n",
              "    [theme=dark] .colab-df-convert:hover {\n",
              "      background-color: #434B5C;\n",
              "      box-shadow: 0px 1px 3px 1px rgba(0, 0, 0, 0.15);\n",
              "      filter: drop-shadow(0px 1px 2px rgba(0, 0, 0, 0.3));\n",
              "      fill: #FFFFFF;\n",
              "    }\n",
              "  </style>\n",
              "\n",
              "      <script>\n",
              "        const buttonEl =\n",
              "          document.querySelector('#df-2580c1ae-2f54-441c-9730-2696acc24448 button.colab-df-convert');\n",
              "        buttonEl.style.display =\n",
              "          google.colab.kernel.accessAllowed ? 'block' : 'none';\n",
              "\n",
              "        async function convertToInteractive(key) {\n",
              "          const element = document.querySelector('#df-2580c1ae-2f54-441c-9730-2696acc24448');\n",
              "          const dataTable =\n",
              "            await google.colab.kernel.invokeFunction('convertToInteractive',\n",
              "                                                     [key], {});\n",
              "          if (!dataTable) return;\n",
              "\n",
              "          const docLinkHtml = 'Like what you see? Visit the ' +\n",
              "            '<a target=\"_blank\" href=https://colab.research.google.com/notebooks/data_table.ipynb>data table notebook</a>'\n",
              "            + ' to learn more about interactive tables.';\n",
              "          element.innerHTML = '';\n",
              "          dataTable['output_type'] = 'display_data';\n",
              "          await google.colab.output.renderOutput(dataTable, element);\n",
              "          const docLink = document.createElement('div');\n",
              "          docLink.innerHTML = docLinkHtml;\n",
              "          element.appendChild(docLink);\n",
              "        }\n",
              "      </script>\n",
              "    </div>\n",
              "  </div>\n",
              "  "
            ]
          },
          "metadata": {},
          "execution_count": 157
        }
      ]
    },
    {
      "cell_type": "markdown",
      "source": [
        "*Counting the outliers in dataframe*"
      ],
      "metadata": {
        "id": "zqeqTls_57z6"
      }
    },
    {
      "cell_type": "code",
      "source": [
        "count_outlier = (df_input['LV ActivePower (kW)'] > 3000).sum()\n",
        "print(count_outlier)"
      ],
      "metadata": {
        "colab": {
          "base_uri": "https://localhost:8080/"
        },
        "id": "HFilzz_V46GX",
        "outputId": "5d8af2b4-c43b-4290-9a6e-f82bdc9c9b21"
      },
      "execution_count": 158,
      "outputs": [
        {
          "output_type": "stream",
          "name": "stdout",
          "text": [
            "9366\n"
          ]
        }
      ]
    },
    {
      "cell_type": "code",
      "source": [
        "df_input"
      ],
      "metadata": {
        "colab": {
          "base_uri": "https://localhost:8080/",
          "height": 424
        },
        "id": "KRhkZVRG89cO",
        "outputId": "127b190a-e8e7-4b1a-d6a7-630579cdb5c0"
      },
      "execution_count": 163,
      "outputs": [
        {
          "output_type": "execute_result",
          "data": {
            "text/plain": [
              "       LV ActivePower (kW)  ...  Wind Direction (°)\n",
              "0               380.047791  ...          259.994904\n",
              "1               453.769196  ...          268.641113\n",
              "2               306.376587  ...          272.564789\n",
              "3               419.645905  ...          271.258087\n",
              "4               380.650696  ...          265.674286\n",
              "...                    ...  ...                 ...\n",
              "50525          2963.980957  ...           80.502724\n",
              "50526          1684.353027  ...           84.062599\n",
              "50527          2201.106934  ...           84.742500\n",
              "50528          2515.694092  ...           84.297913\n",
              "50529          2820.466064  ...           82.274620\n",
              "\n",
              "[50530 rows x 4 columns]"
            ],
            "text/html": [
              "\n",
              "  <div id=\"df-df66210d-a369-4f94-bec4-38f816a9369b\">\n",
              "    <div class=\"colab-df-container\">\n",
              "      <div>\n",
              "<style scoped>\n",
              "    .dataframe tbody tr th:only-of-type {\n",
              "        vertical-align: middle;\n",
              "    }\n",
              "\n",
              "    .dataframe tbody tr th {\n",
              "        vertical-align: top;\n",
              "    }\n",
              "\n",
              "    .dataframe thead th {\n",
              "        text-align: right;\n",
              "    }\n",
              "</style>\n",
              "<table border=\"1\" class=\"dataframe\">\n",
              "  <thead>\n",
              "    <tr style=\"text-align: right;\">\n",
              "      <th></th>\n",
              "      <th>LV ActivePower (kW)</th>\n",
              "      <th>Wind Speed (m/s)</th>\n",
              "      <th>Theoretical_Power_Curve (KWh)</th>\n",
              "      <th>Wind Direction (°)</th>\n",
              "    </tr>\n",
              "  </thead>\n",
              "  <tbody>\n",
              "    <tr>\n",
              "      <th>0</th>\n",
              "      <td>380.047791</td>\n",
              "      <td>5.311336</td>\n",
              "      <td>416.328908</td>\n",
              "      <td>259.994904</td>\n",
              "    </tr>\n",
              "    <tr>\n",
              "      <th>1</th>\n",
              "      <td>453.769196</td>\n",
              "      <td>5.672167</td>\n",
              "      <td>519.917511</td>\n",
              "      <td>268.641113</td>\n",
              "    </tr>\n",
              "    <tr>\n",
              "      <th>2</th>\n",
              "      <td>306.376587</td>\n",
              "      <td>5.216037</td>\n",
              "      <td>390.900016</td>\n",
              "      <td>272.564789</td>\n",
              "    </tr>\n",
              "    <tr>\n",
              "      <th>3</th>\n",
              "      <td>419.645905</td>\n",
              "      <td>5.659674</td>\n",
              "      <td>516.127569</td>\n",
              "      <td>271.258087</td>\n",
              "    </tr>\n",
              "    <tr>\n",
              "      <th>4</th>\n",
              "      <td>380.650696</td>\n",
              "      <td>5.577941</td>\n",
              "      <td>491.702972</td>\n",
              "      <td>265.674286</td>\n",
              "    </tr>\n",
              "    <tr>\n",
              "      <th>...</th>\n",
              "      <td>...</td>\n",
              "      <td>...</td>\n",
              "      <td>...</td>\n",
              "      <td>...</td>\n",
              "    </tr>\n",
              "    <tr>\n",
              "      <th>50525</th>\n",
              "      <td>2963.980957</td>\n",
              "      <td>11.404030</td>\n",
              "      <td>3397.190793</td>\n",
              "      <td>80.502724</td>\n",
              "    </tr>\n",
              "    <tr>\n",
              "      <th>50526</th>\n",
              "      <td>1684.353027</td>\n",
              "      <td>7.332648</td>\n",
              "      <td>1173.055771</td>\n",
              "      <td>84.062599</td>\n",
              "    </tr>\n",
              "    <tr>\n",
              "      <th>50527</th>\n",
              "      <td>2201.106934</td>\n",
              "      <td>8.435358</td>\n",
              "      <td>1788.284755</td>\n",
              "      <td>84.742500</td>\n",
              "    </tr>\n",
              "    <tr>\n",
              "      <th>50528</th>\n",
              "      <td>2515.694092</td>\n",
              "      <td>9.421366</td>\n",
              "      <td>2418.382503</td>\n",
              "      <td>84.297913</td>\n",
              "    </tr>\n",
              "    <tr>\n",
              "      <th>50529</th>\n",
              "      <td>2820.466064</td>\n",
              "      <td>9.979332</td>\n",
              "      <td>2779.184096</td>\n",
              "      <td>82.274620</td>\n",
              "    </tr>\n",
              "  </tbody>\n",
              "</table>\n",
              "<p>50530 rows × 4 columns</p>\n",
              "</div>\n",
              "      <button class=\"colab-df-convert\" onclick=\"convertToInteractive('df-df66210d-a369-4f94-bec4-38f816a9369b')\"\n",
              "              title=\"Convert this dataframe to an interactive table.\"\n",
              "              style=\"display:none;\">\n",
              "        \n",
              "  <svg xmlns=\"http://www.w3.org/2000/svg\" height=\"24px\"viewBox=\"0 0 24 24\"\n",
              "       width=\"24px\">\n",
              "    <path d=\"M0 0h24v24H0V0z\" fill=\"none\"/>\n",
              "    <path d=\"M18.56 5.44l.94 2.06.94-2.06 2.06-.94-2.06-.94-.94-2.06-.94 2.06-2.06.94zm-11 1L8.5 8.5l.94-2.06 2.06-.94-2.06-.94L8.5 2.5l-.94 2.06-2.06.94zm10 10l.94 2.06.94-2.06 2.06-.94-2.06-.94-.94-2.06-.94 2.06-2.06.94z\"/><path d=\"M17.41 7.96l-1.37-1.37c-.4-.4-.92-.59-1.43-.59-.52 0-1.04.2-1.43.59L10.3 9.45l-7.72 7.72c-.78.78-.78 2.05 0 2.83L4 21.41c.39.39.9.59 1.41.59.51 0 1.02-.2 1.41-.59l7.78-7.78 2.81-2.81c.8-.78.8-2.07 0-2.86zM5.41 20L4 18.59l7.72-7.72 1.47 1.35L5.41 20z\"/>\n",
              "  </svg>\n",
              "      </button>\n",
              "      \n",
              "  <style>\n",
              "    .colab-df-container {\n",
              "      display:flex;\n",
              "      flex-wrap:wrap;\n",
              "      gap: 12px;\n",
              "    }\n",
              "\n",
              "    .colab-df-convert {\n",
              "      background-color: #E8F0FE;\n",
              "      border: none;\n",
              "      border-radius: 50%;\n",
              "      cursor: pointer;\n",
              "      display: none;\n",
              "      fill: #1967D2;\n",
              "      height: 32px;\n",
              "      padding: 0 0 0 0;\n",
              "      width: 32px;\n",
              "    }\n",
              "\n",
              "    .colab-df-convert:hover {\n",
              "      background-color: #E2EBFA;\n",
              "      box-shadow: 0px 1px 2px rgba(60, 64, 67, 0.3), 0px 1px 3px 1px rgba(60, 64, 67, 0.15);\n",
              "      fill: #174EA6;\n",
              "    }\n",
              "\n",
              "    [theme=dark] .colab-df-convert {\n",
              "      background-color: #3B4455;\n",
              "      fill: #D2E3FC;\n",
              "    }\n",
              "\n",
              "    [theme=dark] .colab-df-convert:hover {\n",
              "      background-color: #434B5C;\n",
              "      box-shadow: 0px 1px 3px 1px rgba(0, 0, 0, 0.15);\n",
              "      filter: drop-shadow(0px 1px 2px rgba(0, 0, 0, 0.3));\n",
              "      fill: #FFFFFF;\n",
              "    }\n",
              "  </style>\n",
              "\n",
              "      <script>\n",
              "        const buttonEl =\n",
              "          document.querySelector('#df-df66210d-a369-4f94-bec4-38f816a9369b button.colab-df-convert');\n",
              "        buttonEl.style.display =\n",
              "          google.colab.kernel.accessAllowed ? 'block' : 'none';\n",
              "\n",
              "        async function convertToInteractive(key) {\n",
              "          const element = document.querySelector('#df-df66210d-a369-4f94-bec4-38f816a9369b');\n",
              "          const dataTable =\n",
              "            await google.colab.kernel.invokeFunction('convertToInteractive',\n",
              "                                                     [key], {});\n",
              "          if (!dataTable) return;\n",
              "\n",
              "          const docLinkHtml = 'Like what you see? Visit the ' +\n",
              "            '<a target=\"_blank\" href=https://colab.research.google.com/notebooks/data_table.ipynb>data table notebook</a>'\n",
              "            + ' to learn more about interactive tables.';\n",
              "          element.innerHTML = '';\n",
              "          dataTable['output_type'] = 'display_data';\n",
              "          await google.colab.output.renderOutput(dataTable, element);\n",
              "          const docLink = document.createElement('div');\n",
              "          docLink.innerHTML = docLinkHtml;\n",
              "          element.appendChild(docLink);\n",
              "        }\n",
              "      </script>\n",
              "    </div>\n",
              "  </div>\n",
              "  "
            ]
          },
          "metadata": {},
          "execution_count": 163
        }
      ]
    },
    {
      "cell_type": "markdown",
      "source": [
        "*Fixing the outliers*"
      ],
      "metadata": {
        "id": "_MsmWcrj6l7C"
      }
    },
    {
      "cell_type": "code",
      "source": [
        "scaler = MinMaxScaler()\n",
        "data_scaled = scaler.fit_transform(df_input)"
      ],
      "metadata": {
        "id": "8vBMxMav6ZxX"
      },
      "execution_count": 159,
      "outputs": []
    },
    {
      "cell_type": "code",
      "source": [
        "data_scaled[0:1]"
      ],
      "metadata": {
        "colab": {
          "base_uri": "https://localhost:8080/"
        },
        "id": "sM1LglOQ8M4w",
        "outputId": "1d32b41f-2e55-4680-b1e4-b90fe98c5d12"
      },
      "execution_count": 172,
      "outputs": [
        {
          "output_type": "execute_result",
          "data": {
            "text/plain": [
              "array([[0.10563314, 0.2042395 , 0.11169348, 0.7222008 ]])"
            ]
          },
          "metadata": {},
          "execution_count": 172
        }
      ]
    },
    {
      "cell_type": "markdown",
      "source": [
        "Features and Targets\n"
      ],
      "metadata": {
        "id": "jCRqPJK-9Qsv"
      }
    },
    {
      "cell_type": "code",
      "source": [
        "features=data_scaled\n",
        "targets=data_scaled[:,0]"
      ],
      "metadata": {
        "id": "pjPoGIZj8bOJ"
      },
      "execution_count": 164,
      "outputs": []
    },
    {
      "cell_type": "code",
      "source": [
        "features[12]"
      ],
      "metadata": {
        "colab": {
          "base_uri": "https://localhost:8080/"
        },
        "id": "58d_eLVQ_bQE",
        "outputId": "4a5ec776-0b5b-42e3-f2e9-019b51a37670"
      },
      "execution_count": 219,
      "outputs": [
        {
          "output_type": "execute_result",
          "data": {
            "text/plain": [
              "array([0.19691203, 0.25368097, 0.22562654, 0.76175281])"
            ]
          },
          "metadata": {},
          "execution_count": 219
        }
      ]
    },
    {
      "cell_type": "markdown",
      "source": [
        "**Window length**"
      ],
      "metadata": {
        "id": "u4li5NF_9m3O"
      }
    },
    {
      "cell_type": "code",
      "source": [
        "Window_length = 1008 # 7 days sample on hourly basis\n",
        "TimeseriesGenerator(features, targets, length=Window_length, sampling_rate=6, batch_size=1)[0]"
      ],
      "metadata": {
        "colab": {
          "base_uri": "https://localhost:8080/"
        },
        "id": "KVXtX2hU9cGw",
        "outputId": "22573eb5-1e5b-4718-d51e-165615b31873"
      },
      "execution_count": 216,
      "outputs": [
        {
          "output_type": "execute_result",
          "data": {
            "text/plain": [
              "(array([[[1.05633144e-01, 2.04239502e-01, 1.11693480e-01, 7.22200804e-01],\n",
              "         [1.24289347e-01, 2.23505733e-01, 1.51047363e-01, 7.39336946e-01],\n",
              "         [1.96912028e-01, 2.53680967e-01, 2.25626544e-01, 7.61752810e-01],\n",
              "         [2.04108680e-01, 2.48387908e-01, 2.11259924e-01, 7.25433710e-01],\n",
              "         [4.13199383e-01, 3.09506631e-01, 4.13384727e-01, 7.12235042e-01],\n",
              "         [3.22369093e-01, 2.75715604e-01, 2.91530184e-01, 6.53400129e-01],\n",
              "         [3.08322394e-01, 2.81353577e-01, 3.10105491e-01, 6.89993901e-01],\n",
              "         [2.51949115e-01, 2.67296809e-01, 2.65140344e-01, 6.55123527e-01],\n",
              "         [1.62302580e-01, 2.24458422e-01, 1.53155438e-01, 6.67569983e-01],\n",
              "         [2.01131846e-01, 2.39559638e-01, 1.88484526e-01, 5.55119053e-01],\n",
              "         [2.43988850e-01, 2.58450572e-01, 2.39040999e-01, 6.54621275e-01],\n",
              "         [6.52992720e-02, 1.73968426e-01, 6.07176857e-02, 6.50282475e-01],\n",
              "         [5.43058568e-02, 1.64737815e-01, 4.73151760e-02, 6.30654787e-01],\n",
              "         [9.64695126e-02, 1.91904040e-01, 8.94815943e-02, 6.53543442e-01],\n",
              "         [1.63355744e-01, 2.31040291e-01, 1.68167747e-01, 6.52723707e-01],\n",
              "         [4.47176467e-01, 3.23072502e-01, 4.68618060e-01, 6.56826663e-01],\n",
              "         [7.77296781e-01, 4.17679757e-01, 8.69770192e-01, 6.24100595e-01],\n",
              "         [5.85678441e-01, 3.55728351e-01, 6.11546959e-01, 6.22101339e-01],\n",
              "         [5.41423320e-01, 3.60534595e-01, 6.33345143e-01, 5.89374679e-01],\n",
              "         [7.14440893e-01, 4.10370010e-01, 8.46211066e-01, 5.71520998e-01],\n",
              "         [8.86856745e-01, 4.46319589e-01, 9.40358030e-01, 5.54999604e-01],\n",
              "         [9.95989470e-01, 5.08901505e-01, 9.99293932e-01, 5.59936240e-01],\n",
              "         [9.61525244e-01, 5.10333456e-01, 9.99384660e-01, 5.59264820e-01],\n",
              "         [9.86564191e-01, 4.88528991e-01, 9.92342627e-01, 5.62239713e-01],\n",
              "         [9.33424633e-01, 4.99991813e-01, 9.97572658e-01, 5.44545495e-01],\n",
              "         [9.58321931e-01, 4.75619837e-01, 9.82172084e-01, 5.49852683e-01],\n",
              "         [9.95980098e-01, 5.55871148e-01, 1.00000000e+00, 5.45137184e-01],\n",
              "         [9.38280202e-01, 5.41468017e-01, 1.00000000e+00, 5.30576728e-01],\n",
              "         [9.71035067e-01, 4.95722775e-01, 9.96028830e-01, 5.44545749e-01],\n",
              "         [9.82484286e-01, 4.93441242e-01, 9.95008646e-01, 5.56549424e-01],\n",
              "         [8.94181899e-01, 4.58950775e-01, 9.61783138e-01, 5.57494203e-01],\n",
              "         [9.44497245e-01, 4.70902396e-01, 9.77262207e-01, 5.53879299e-01],\n",
              "         [9.32741738e-01, 4.52610578e-01, 9.51707984e-01, 5.44024635e-01],\n",
              "         [8.23146446e-01, 4.22694772e-01, 8.84548702e-01, 5.36567841e-01],\n",
              "         [9.94154440e-01, 5.96735380e-01, 1.00000000e+00, 5.45388288e-01],\n",
              "         [9.95343319e-01, 6.26241997e-01, 1.00000000e+00, 5.41762279e-01],\n",
              "         [9.77616042e-01, 5.24687799e-01, 1.00000000e+00, 5.64677596e-01],\n",
              "         [3.53850905e-01, 3.54673317e-01, 6.06779057e-01, 5.50640797e-01],\n",
              "         [8.59805521e-01, 4.28069006e-01, 8.99191950e-01, 5.68912250e-01],\n",
              "         [9.11639632e-01, 4.47749938e-01, 9.43060245e-01, 5.71165705e-01],\n",
              "         [9.65549056e-01, 4.80318052e-01, 9.86416975e-01, 5.60305733e-01],\n",
              "         [9.95555354e-01, 5.14864517e-01, 1.00000000e+00, 5.65097912e-01],\n",
              "         [9.71522512e-01, 4.80060073e-01, 9.86200283e-01, 5.26437912e-01],\n",
              "         [8.46184376e-01, 4.43696881e-01, 9.35213091e-01, 5.35700590e-01],\n",
              "         [6.40427646e-01, 3.85329569e-01, 7.45447126e-01, 5.54838235e-01],\n",
              "         [9.92367210e-01, 5.00908988e-01, 9.97842907e-01, 5.62243867e-01],\n",
              "         [4.49636984e-01, 3.44147049e-01, 5.59638556e-01, 5.20773184e-01],\n",
              "         [3.60539819e-01, 3.17565559e-01, 4.45824655e-01, 5.04591824e-01],\n",
              "         [7.69092069e-01, 4.07984073e-01, 8.37982462e-01, 4.91441138e-01],\n",
              "         [3.53848680e-01, 2.96842448e-01, 3.64926654e-01, 5.63708402e-01],\n",
              "         [2.04329867e-01, 2.42466588e-01, 1.95821949e-01, 5.86653434e-01],\n",
              "         [1.23460311e-01, 2.11454418e-01, 1.25725598e-01, 4.17426570e-01],\n",
              "         [3.35964855e-01, 2.90672228e-01, 3.42518314e-01, 4.29933048e-01],\n",
              "         [3.19123237e-01, 2.83133150e-01, 3.16126515e-01, 4.91073341e-01],\n",
              "         [4.33932265e-01, 3.15550474e-01, 4.37606925e-01, 5.38898230e-01],\n",
              "         [5.83022171e-01, 3.59181071e-01, 6.27194453e-01, 5.27780202e-01],\n",
              "         [5.36820136e-01, 3.63132432e-01, 6.45172920e-01, 4.37106184e-01],\n",
              "         [5.29131169e-02, 1.73935507e-01, 6.06683224e-02, 4.11237125e-01],\n",
              "         [8.61544369e-02, 1.80432654e-01, 7.06432365e-02, 5.21108173e-01],\n",
              "         [7.66278265e-02, 1.83009282e-01, 7.47333646e-02, 5.22039896e-01],\n",
              "         [2.63652338e-01, 2.67604187e-01, 2.66076607e-01, 5.38696592e-01],\n",
              "         [1.86426979e-01, 2.38632106e-01, 1.86176604e-01, 5.25750936e-01],\n",
              "         [5.12216906e-02, 1.70693179e-01, 5.58627987e-02, 5.70459018e-01],\n",
              "         [1.36923231e-01, 2.23094122e-01, 1.50141536e-01, 5.89850268e-01],\n",
              "         [5.73935423e-04, 7.92257445e-02, 2.90158307e-03, 6.62240541e-01],\n",
              "         [1.62863818e-02, 1.48100366e-01, 2.64950499e-02, 6.72137719e-01],\n",
              "         [7.32555505e-02, 1.86630721e-01, 8.06175774e-02, 6.19290063e-01],\n",
              "         [3.19685181e-01, 2.96800145e-01, 3.64770464e-01, 5.71033456e-01],\n",
              "         [4.43746960e-01, 3.29358494e-01, 4.95188794e-01, 5.44451309e-01],\n",
              "         [4.86825439e-01, 3.25349686e-01, 4.78178888e-01, 5.88992723e-01],\n",
              "         [4.68120609e-01, 3.31369345e-01, 5.03802317e-01, 5.41411140e-01],\n",
              "         [2.75337711e-01, 2.66051161e-01, 2.61366736e-01, 5.56764965e-01],\n",
              "         [3.10294117e-01, 2.69148172e-01, 2.70810209e-01, 5.45526091e-01],\n",
              "         [3.09001749e-01, 2.74301695e-01, 2.86987741e-01, 5.35359454e-01],\n",
              "         [3.71343427e-01, 2.93314734e-01, 3.52041057e-01, 5.49936314e-01],\n",
              "         [3.10616653e-01, 2.79197276e-01, 3.02912521e-01, 5.50360488e-01],\n",
              "         [3.69339105e-01, 2.91546356e-01, 3.45674254e-01, 5.33698833e-01],\n",
              "         [7.89048858e-02, 1.81725298e-01, 7.26853390e-02, 5.60869362e-01],\n",
              "         [4.18491562e-01, 2.98918833e-01, 3.72641582e-01, 5.80311435e-01],\n",
              "         [4.68281338e-01, 3.18001946e-01, 4.47613203e-01, 5.98225687e-01],\n",
              "         [6.53024281e-01, 3.75740502e-01, 6.97676246e-01, 5.52128646e-01],\n",
              "         [9.24978162e-02, 1.96050650e-01, 9.67098689e-02, 5.42140377e-01],\n",
              "         [3.95581435e-02, 8.72553958e-02, 6.43439256e-02, 3.86851168e-01],\n",
              "         [4.59964052e-02, 1.29456711e-01, 8.29268447e-03, 2.19673345e-01],\n",
              "         [5.24346668e-02, 1.28328943e-01, 7.50270402e-03, 2.82470360e-01],\n",
              "         [5.88729285e-02, 1.92343059e-01, 9.02359078e-02, 1.40028542e-01],\n",
              "         [2.20310215e-01, 2.57241659e-01, 2.35598273e-01, 1.47430666e-01],\n",
              "         [1.80336229e-01, 2.34989115e-01, 1.77267250e-01, 1.26403910e-01],\n",
              "         [1.41339856e-01, 2.19555517e-01, 1.42476330e-01, 1.30470369e-01],\n",
              "         [2.66458752e-01, 2.60436915e-01, 2.44761426e-01, 1.14203768e-01],\n",
              "         [3.38145074e-01, 2.86998950e-01, 3.29477184e-01, 1.25220796e-01],\n",
              "         [1.71860996e-01, 2.32412049e-01, 1.71114102e-01, 7.15548774e-02],\n",
              "         [1.51258166e-01, 2.20782988e-01, 1.45110626e-01, 8.23833655e-02],\n",
              "         [2.41895333e-01, 2.56953182e-01, 2.34781062e-01, 4.78097952e-02],\n",
              "         [2.75383793e-01, 2.59096723e-01, 2.40893102e-01, 7.08497547e-03],\n",
              "         [2.28690032e-01, 2.54502549e-01, 2.27905241e-01, 9.26596061e-02],\n",
              "         [3.85833520e-02, 1.57271347e-01, 3.70702092e-02, 9.10404930e-02],\n",
              "         [2.52422195e-02, 1.49874552e-01, 2.87326489e-02, 1.00566673e-01],\n",
              "         [1.15326660e-01, 2.07565540e-01, 1.18062083e-01, 3.47201668e-02],\n",
              "         [2.62921027e-02, 1.46903812e-01, 2.50355519e-02, 3.16818197e-02],\n",
              "         [1.90856160e-02, 1.44615604e-01, 2.23557591e-02, 1.09034763e-01],\n",
              "         [1.21726747e-02, 1.42219606e-01, 1.97063170e-02, 2.00744862e-01],\n",
              "         [2.17380094e-03, 9.70940308e-02, 1.62220808e-03, 2.82890379e-01],\n",
              "         [2.75112390e-03, 7.42737838e-02, 1.25234526e-03, 1.24793613e-01],\n",
              "         [3.32844686e-03, 4.32750170e-02, 8.82482427e-04, 8.38528607e-02],\n",
              "         [3.90576983e-03, 7.98644370e-02, 5.89485672e-03, 9.39412781e-01],\n",
              "         [4.48309279e-03, 9.90503236e-02, 2.08191931e-02, 8.33769181e-01],\n",
              "         [5.06041575e-03, 7.59637719e-02, 1.64719478e-02, 6.43101540e-01],\n",
              "         [5.63773871e-03, 4.30806265e-02, 1.21247025e-02, 8.04609696e-01],\n",
              "         [6.21506167e-03, 7.10659734e-02, 7.77745720e-03, 6.53720114e-01],\n",
              "         [6.79238463e-03, 1.03841720e-01, 3.43021188e-03, 6.77664392e-01],\n",
              "         [7.36970760e-03, 1.08917597e-01, 7.06051528e-03, 5.80245056e-01],\n",
              "         [7.94703056e-03, 1.34531139e-01, 1.22863284e-02, 5.78227743e-01],\n",
              "         [8.52435352e-03, 9.67887984e-02, 1.25619979e-02, 7.19036226e-01],\n",
              "         [9.10167648e-03, 9.39519693e-02, 1.28376673e-02, 6.72045781e-01],\n",
              "         [9.67899944e-03, 6.31319962e-02, 1.31133368e-02, 5.71055412e-01],\n",
              "         [1.02563224e-02, 6.76428877e-02, 1.33890062e-02, 5.76396257e-01],\n",
              "         [1.08336454e-02, 2.61188466e-02, 1.36646757e-02, 7.18891769e-01],\n",
              "         [1.14109683e-02, 6.40015704e-02, 1.39403451e-02, 4.73647182e-01],\n",
              "         [1.19882913e-02, 1.82733007e-02, 1.42160146e-02, 6.84438914e-01],\n",
              "         [1.25656143e-02, 3.03343592e-02, 1.44916840e-02, 9.27680811e-01],\n",
              "         [1.31429372e-02, 3.06500244e-02, 1.47673535e-02, 6.06315244e-01],\n",
              "         [1.37202602e-02, 8.55600959e-02, 1.50430230e-02, 3.74911668e-01],\n",
              "         [4.61059750e-03, 4.76357146e-02, 4.98873364e-03, 8.90176977e-01],\n",
              "         [5.31287795e-03, 1.80890927e-02, 6.51029226e-03, 5.14000611e-01],\n",
              "         [6.01515840e-03, 2.67267651e-02, 8.03185089e-03, 5.60044329e-01],\n",
              "         [6.71743885e-03, 1.58422536e-02, 9.55340951e-03, 4.88549071e-01],\n",
              "         [7.41971931e-03, 9.13969415e-02, 1.10749681e-02, 4.29238569e-01],\n",
              "         [8.12199976e-03, 1.34890653e-01, 1.25965268e-02, 4.81634267e-01],\n",
              "         [8.82428021e-03, 9.38807703e-02, 1.73994263e-02, 4.30908939e-01],\n",
              "         [9.52656066e-03, 1.31329646e-01, 9.68305168e-03, 4.52676144e-01],\n",
              "         [1.02288411e-02, 1.76614346e-01, 6.47238472e-02, 5.78877206e-01],\n",
              "         [1.63440147e-02, 1.32683085e-01, 1.07486959e-02, 5.66437701e-01],\n",
              "         [1.16661069e-02, 1.67141299e-01, 5.07227258e-02, 5.40590557e-01],\n",
              "         [2.83306531e-02, 1.79963348e-01, 6.99066725e-02, 5.10470567e-01],\n",
              "         [1.90046053e-01, 2.47764168e-01, 2.09602398e-01, 5.08393403e-01],\n",
              "         [2.26608566e-01, 2.69459327e-01, 2.71770388e-01, 5.22748830e-01],\n",
              "         [6.64776754e-01, 3.92483376e-01, 7.77618700e-01, 5.37004561e-01],\n",
              "         [9.89648509e-01, 4.84451940e-01, 9.89633787e-01, 5.45696108e-01],\n",
              "         [9.32219505e-01, 4.57948001e-01, 9.60278245e-01, 5.50879694e-01],\n",
              "         [8.45036959e-01, 4.37842698e-01, 9.22819015e-01, 5.44732170e-01],\n",
              "         [9.51508964e-01, 4.92918837e-01, 9.94755727e-01, 5.37719599e-01],\n",
              "         [7.34021673e-01, 4.10202818e-01, 8.45643265e-01, 5.46788649e-01],\n",
              "         [9.11712243e-01, 4.67148096e-01, 9.72878157e-01, 5.60081545e-01],\n",
              "         [9.95819100e-01, 5.00377390e-01, 9.97688900e-01, 5.74013053e-01],\n",
              "         [9.71968493e-01, 5.17071246e-01, 1.00000000e+00, 5.66828812e-01],\n",
              "         [9.40044576e-01, 5.44054334e-01, 1.00000000e+00, 5.80893969e-01],\n",
              "         [9.66499270e-01, 6.30463887e-01, 1.00000000e+00, 5.84069397e-01],\n",
              "         [9.96022371e-01, 5.98489320e-01, 1.00000000e+00, 5.77034615e-01],\n",
              "         [5.53046246e-01, 3.40185541e-01, 5.42141275e-01, 5.54447632e-01],\n",
              "         [7.08955151e-01, 3.83676601e-01, 7.37600836e-01, 5.83630516e-01],\n",
              "         [6.07373437e-01, 3.61564491e-01, 6.38030802e-01, 5.76605991e-01],\n",
              "         [9.51399070e-01, 4.78789325e-01, 9.85105278e-01, 5.90181655e-01],\n",
              "         [8.35063760e-01, 4.30712503e-01, 9.05956792e-01, 5.70338722e-01],\n",
              "         [9.76545686e-01, 5.12069811e-01, 1.00000000e+00, 5.86550347e-01],\n",
              "         [9.55271795e-01, 4.66606541e-01, 9.72210219e-01, 6.07216406e-01],\n",
              "         [9.85087564e-01, 4.81456435e-01, 9.87350671e-01, 6.16984386e-01],\n",
              "         [9.05053128e-01, 4.46635588e-01, 9.40961267e-01, 6.22256309e-01],\n",
              "         [9.31695114e-01, 4.58733993e-01, 9.61460587e-01, 5.92247332e-01],\n",
              "         [9.16338045e-01, 4.51032261e-01, 9.48989534e-01, 5.97271753e-01],\n",
              "         [9.87511910e-01, 4.82646390e-01, 9.88287652e-01, 5.84850559e-01],\n",
              "         [9.38204287e-01, 5.99079701e-01, 1.00000000e+00, 5.89607175e-01],\n",
              "         [9.96082576e-01, 5.51163319e-01, 1.00000000e+00, 6.13125881e-01],\n",
              "         [9.83330741e-01, 4.87308252e-01, 9.91579250e-01, 6.16482432e-01],\n",
              "         [8.18821605e-01, 4.25991095e-01, 8.93673514e-01, 6.23898915e-01],\n",
              "         [6.44411680e-01, 3.76395998e-01, 7.01118522e-01, 6.27964654e-01],\n",
              "         [4.39864831e-01, 3.15864566e-01, 4.38883318e-01, 6.27966901e-01],\n",
              "         [3.51783075e-01, 2.96565225e-01, 3.63903835e-01, 6.32162643e-01]]]),\n",
              " array([0.29052473]))"
            ]
          },
          "metadata": {},
          "execution_count": 216
        }
      ]
    },
    {
      "cell_type": "markdown",
      "source": [
        "**Training and Testing data** *by using Test Train split*"
      ],
      "metadata": {
        "id": "QLe9hNHxCbF5"
      }
    },
    {
      "cell_type": "code",
      "source": [
        "x_train, x_test, y_train, y_test =train_test_split(features, targets, test_size=0.20,  shuffle=False)\n"
      ],
      "metadata": {
        "id": "4hSrf2Q7_Ppp"
      },
      "execution_count": 225,
      "outputs": []
    },
    {
      "cell_type": "code",
      "source": [
        "x_train[0:10]"
      ],
      "metadata": {
        "colab": {
          "base_uri": "https://localhost:8080/"
        },
        "id": "z2Jd6V7ODfIm",
        "outputId": "7e290f2e-c5fe-421d-dbd4-8ad89f75d473"
      },
      "execution_count": 226,
      "outputs": [
        {
          "output_type": "execute_result",
          "data": {
            "text/plain": [
              "array([[0.10563314, 0.2042395 , 0.11169348, 0.7222008 ],\n",
              "       [0.1259914 , 0.21867225, 0.14059673, 0.74621926],\n",
              "       [0.08528875, 0.20042766, 0.10459832, 0.75711891],\n",
              "       [0.11656821, 0.21817256, 0.13953926, 0.753489  ],\n",
              "       [0.10579964, 0.21490334, 0.13272432, 0.73797766],\n",
              "       [0.11180352, 0.21594775, 0.13488209, 0.73493397],\n",
              "       [0.12428935, 0.22350573, 0.15104736, 0.73933695],\n",
              "       [0.10761989, 0.20402806, 0.11129428, 0.71651882],\n",
              "       [0.12872033, 0.21517086, 0.13327529, 0.70410488],\n",
              "       [0.12211327, 0.2127149 , 0.12826107, 0.71866974]])"
            ]
          },
          "metadata": {},
          "execution_count": 226
        }
      ]
    },
    {
      "cell_type": "code",
      "source": [
        "x_test.shape"
      ],
      "metadata": {
        "colab": {
          "base_uri": "https://localhost:8080/"
        },
        "id": "agDbJke9DgYU",
        "outputId": "d0e4cd0f-8078-4cef-fcaf-7c5fa552c881"
      },
      "execution_count": 227,
      "outputs": [
        {
          "output_type": "execute_result",
          "data": {
            "text/plain": [
              "(10106, 4)"
            ]
          },
          "metadata": {},
          "execution_count": 227
        }
      ]
    },
    {
      "cell_type": "code",
      "source": [
        "win_length=720 # from 1st january 2018 to 26 December 2018 as given in paper 72 hour forecasting\n",
        "batch_size=32 \n",
        "num_features= 4\n",
        "sampling_rate=6\n",
        "A=win_length/sampling_rate\n",
        "train_generator = TimeseriesGenerator(x_train, y_train, length=win_length, sampling_rate=6, batch_size=batch_size)\n",
        "test_generator = TimeseriesGenerator(x_test, y_test, length=win_length, sampling_rate=6, batch_size=batch_size)"
      ],
      "metadata": {
        "id": "BVRwdCnIDp6Y"
      },
      "execution_count": 270,
      "outputs": []
    },
    {
      "cell_type": "code",
      "source": [
        "train_generator"
      ],
      "metadata": {
        "colab": {
          "base_uri": "https://localhost:8080/"
        },
        "id": "3qwopDh6F8u3",
        "outputId": "f8970a70-2b21-4b78-ab64-ed0649bc76f1"
      },
      "execution_count": 271,
      "outputs": [
        {
          "output_type": "execute_result",
          "data": {
            "text/plain": [
              "<keras.preprocessing.sequence.TimeseriesGenerator at 0x7f064e1ae400>"
            ]
          },
          "metadata": {},
          "execution_count": 271
        }
      ]
    },
    {
      "cell_type": "markdown",
      "source": [
        "**Model Architecture**"
      ],
      "metadata": {
        "id": "E6lRjP9IGbtl"
      }
    },
    {
      "cell_type": "code",
      "source": [
        "model = tf.keras.Sequential()\n",
        "model.add(tf.keras.layers.LSTM(128, input_shape = (120, num_features), return_sequences= True))\n",
        "model.add(tf.keras.layers.LeakyReLU(alpha=0.5))\n",
        "model.add(tf.keras.layers.LSTM(128, return_sequences=True))\n",
        "model.add(tf.keras.layers.LeakyReLU(alpha=0.5))\n",
        "model.add(tf.keras.layers.Dropout(0.3))\n",
        "model.add(tf.keras.layers.LSTM(64, return_sequences=False))\n",
        "model.add(tf.keras.layers.Dropout(0.3))\n",
        "model.add(tf.keras.layers.Dense(1))"
      ],
      "metadata": {
        "id": "6sj394FNKhhF"
      },
      "execution_count": 274,
      "outputs": []
    },
    {
      "cell_type": "code",
      "source": [
        "model.summary()"
      ],
      "metadata": {
        "colab": {
          "base_uri": "https://localhost:8080/"
        },
        "id": "5Lc8S4KmLFgk",
        "outputId": "ca68731e-8941-4833-ae1b-d2240b1339a4"
      },
      "execution_count": 287,
      "outputs": [
        {
          "output_type": "stream",
          "name": "stdout",
          "text": [
            "Model: \"sequential_14\"\n",
            "_________________________________________________________________\n",
            " Layer (type)                Output Shape              Param #   \n",
            "=================================================================\n",
            " tcn_5 (TCN)                 (None, 32)                196640    \n",
            "                                                                 \n",
            " dense_10 (Dense)            (None, 1)                 33        \n",
            "                                                                 \n",
            "=================================================================\n",
            "Total params: 196,673\n",
            "Trainable params: 196,673\n",
            "Non-trainable params: 0\n",
            "_________________________________________________________________\n"
          ]
        }
      ]
    },
    {
      "cell_type": "code",
      "source": [
        "early_stopping = tf.keras.callbacks.EarlyStopping(monitor='val_loss',\n",
        "                                                  patience=2,\n",
        "                                                  mode='min')\n",
        "model.compile(loss=tf.losses.MeanSquaredError(),\n",
        "              optimizer=tf.optimizers.Adam(),\n",
        "              metrics=[tf.metrics.MeanAbsoluteError()])\n",
        "\n",
        "history = model.fit_generator(train_generator, epochs=2,\n",
        "                              validation_data=test_generator,\n",
        "                              shuffle=False,\n",
        "                              callbacks=[early_stopping])"
      ],
      "metadata": {
        "colab": {
          "base_uri": "https://localhost:8080/"
        },
        "id": "5FsSg-hvMMRR",
        "outputId": "abf124e1-cbde-4cc4-cc00-b4e09f8bfbbd"
      },
      "execution_count": 279,
      "outputs": [
        {
          "output_type": "stream",
          "name": "stdout",
          "text": [
            "Epoch 1/2\n"
          ]
        },
        {
          "output_type": "stream",
          "name": "stderr",
          "text": [
            "<ipython-input-279-3302761eca3e>:8: UserWarning: `Model.fit_generator` is deprecated and will be removed in a future version. Please use `Model.fit`, which supports generators.\n",
            "  history = model.fit_generator(train_generator, epochs=2,\n"
          ]
        },
        {
          "output_type": "stream",
          "name": "stdout",
          "text": [
            "1241/1241 [==============================] - 795s 634ms/step - loss: 0.0449 - mean_absolute_error: 0.1488 - val_loss: 0.0350 - val_mean_absolute_error: 0.1433\n",
            "Epoch 2/2\n",
            "1241/1241 [==============================] - 791s 638ms/step - loss: 0.0267 - mean_absolute_error: 0.1126 - val_loss: 0.0310 - val_mean_absolute_error: 0.1364\n"
          ]
        }
      ]
    },
    {
      "cell_type": "code",
      "source": [
        "model.evaluate_generator(test_generator, verbose=0)"
      ],
      "metadata": {
        "colab": {
          "base_uri": "https://localhost:8080/"
        },
        "id": "IVPN6i9oNFQZ",
        "outputId": "f347407a-e1d9-4a55-8298-30250c009638"
      },
      "execution_count": 280,
      "outputs": [
        {
          "output_type": "stream",
          "name": "stderr",
          "text": [
            "<ipython-input-280-a68ec1088d46>:1: UserWarning: `Model.evaluate_generator` is deprecated and will be removed in a future version. Please use `Model.evaluate`, which supports generators.\n",
            "  model.evaluate_generator(test_generator, verbose=0)\n"
          ]
        },
        {
          "output_type": "execute_result",
          "data": {
            "text/plain": [
              "[0.031042473390698433, 0.13637657463550568]"
            ]
          },
          "metadata": {},
          "execution_count": 280
        }
      ]
    },
    {
      "cell_type": "code",
      "source": [
        "predictions= model.predict_generator(test_generator)"
      ],
      "metadata": {
        "colab": {
          "base_uri": "https://localhost:8080/"
        },
        "id": "K2rzHkdiNMa7",
        "outputId": "c2b640ca-92bf-4b7a-ca77-9eb925da11a9"
      },
      "execution_count": 281,
      "outputs": [
        {
          "output_type": "stream",
          "name": "stderr",
          "text": [
            "<ipython-input-281-0b0b47d602ac>:1: UserWarning: `Model.predict_generator` is deprecated and will be removed in a future version. Please use `Model.predict`, which supports generators.\n",
            "  predictions= model.predict_generator(test_generator)\n"
          ]
        }
      ]
    },
    {
      "cell_type": "code",
      "source": [
        "predictions.shape[0]"
      ],
      "metadata": {
        "colab": {
          "base_uri": "https://localhost:8080/"
        },
        "id": "i5LeGv4FNRdJ",
        "outputId": "51928643-febe-4383-c772-893fb614a613"
      },
      "execution_count": 282,
      "outputs": [
        {
          "output_type": "execute_result",
          "data": {
            "text/plain": [
              "9386"
            ]
          },
          "metadata": {},
          "execution_count": 282
        }
      ]
    },
    {
      "cell_type": "code",
      "source": [
        "model = keras.models.Sequential([\n",
        "    TCN(input_shape=(120, 4), \n",
        "        kernel_size=10,\n",
        "        nb_filters=32,\n",
        "        dilations=[1, 2, 4, 8, 16],\n",
        "        padding='causal',\n",
        "        activation='relu',\n",
        "        return_sequences=False,\n",
        "        nb_stacks=2,\n",
        "        use_skip_connections=False,\n",
        "        use_batch_norm=False\n",
        "        ),\n",
        "    Dense(1, activation='linear')\n",
        "])\n"
      ],
      "metadata": {
        "id": "SKr12Gc0NXFc"
      },
      "execution_count": 285,
      "outputs": []
    },
    {
      "cell_type": "code",
      "source": [
        "model.summary()"
      ],
      "metadata": {
        "colab": {
          "base_uri": "https://localhost:8080/"
        },
        "id": "jc5pGhClWjtT",
        "outputId": "c6f6c059-8184-45c0-e979-bbb22f1e3ed5"
      },
      "execution_count": 286,
      "outputs": [
        {
          "output_type": "stream",
          "name": "stdout",
          "text": [
            "Model: \"sequential_14\"\n",
            "_________________________________________________________________\n",
            " Layer (type)                Output Shape              Param #   \n",
            "=================================================================\n",
            " tcn_5 (TCN)                 (None, 32)                196640    \n",
            "                                                                 \n",
            " dense_10 (Dense)            (None, 1)                 33        \n",
            "                                                                 \n",
            "=================================================================\n",
            "Total params: 196,673\n",
            "Trainable params: 196,673\n",
            "Non-trainable params: 0\n",
            "_________________________________________________________________\n"
          ]
        }
      ]
    },
    {
      "cell_type": "code",
      "source": [
        "model.compile(optimizer='adam',\n",
        "              loss='mae',\n",
        "              metrics=keras.metrics.MeanAbsolutePercentageError())\n",
        "\n",
        "history = model.fit_generator(train_generator, epochs=10,\n",
        "                              validation_data=test_generator,\n",
        "                              shuffle=False,\n",
        "                              callbacks=[early_stopping])"
      ],
      "metadata": {
        "colab": {
          "base_uri": "https://localhost:8080/"
        },
        "id": "ML5JekFWWlnL",
        "outputId": "abf01fe4-1a5b-4be8-cb5a-95cf756a6aa6"
      },
      "execution_count": 288,
      "outputs": [
        {
          "metadata": {
            "tags": null
          },
          "name": "stdout",
          "output_type": "stream",
          "text": [
            "Epoch 1/10\n"
          ]
        },
        {
          "metadata": {
            "tags": null
          },
          "name": "stderr",
          "output_type": "stream",
          "text": [
            "<ipython-input-288-0424998cf121>:5: UserWarning: `Model.fit_generator` is deprecated and will be removed in a future version. Please use `Model.fit`, which supports generators.\n",
            "  history = model.fit_generator(train_generator, epochs=10,\n"
          ]
        },
        {
          "output_type": "stream",
          "name": "stdout",
          "text": [
            "1241/1241 [==============================] - 326s 258ms/step - loss: 0.4876 - mean_absolute_percentage_error: 12287.1025 - val_loss: 0.1640 - val_mean_absolute_percentage_error: 733.4481\n",
            "Epoch 2/10\n",
            "1241/1241 [==============================] - 323s 260ms/step - loss: 0.1220 - mean_absolute_percentage_error: 5225.9067 - val_loss: 0.1179 - val_mean_absolute_percentage_error: 378.1345\n",
            "Epoch 3/10\n",
            "1241/1241 [==============================] - 322s 259ms/step - loss: 0.1001 - mean_absolute_percentage_error: 505.7124 - val_loss: 0.1087 - val_mean_absolute_percentage_error: 265.1525\n",
            "Epoch 4/10\n",
            "1241/1241 [==============================] - 306s 246ms/step - loss: 0.0925 - mean_absolute_percentage_error: 503.4001 - val_loss: 0.1070 - val_mean_absolute_percentage_error: 191.5808\n",
            "Epoch 5/10\n",
            "1241/1241 [==============================] - 302s 243ms/step - loss: 0.0885 - mean_absolute_percentage_error: 653.9216 - val_loss: 0.1130 - val_mean_absolute_percentage_error: 208.5097\n",
            "Epoch 6/10\n",
            "1241/1241 [==============================] - 300s 242ms/step - loss: 0.0893 - mean_absolute_percentage_error: 640.0258 - val_loss: 0.1062 - val_mean_absolute_percentage_error: 194.4944\n",
            "Epoch 7/10\n",
            "1241/1241 [==============================] - 303s 244ms/step - loss: 0.0877 - mean_absolute_percentage_error: 626.8539 - val_loss: 0.1080 - val_mean_absolute_percentage_error: 214.7843\n",
            "Epoch 8/10\n",
            "1241/1241 [==============================] - 305s 246ms/step - loss: 0.0861 - mean_absolute_percentage_error: 220.2756 - val_loss: 0.1175 - val_mean_absolute_percentage_error: 225.6622\n"
          ]
        }
      ]
    },
    {
      "cell_type": "code",
      "source": [
        "import matplotlib.pyplot as plt\n",
        "logs = pd.DataFrame(history.history)\n",
        "\n",
        "plt.figure(figsize=(14, 4))\n",
        "plt.subplot(1, 2, 1)\n",
        "plt.plot(logs.loc[1:,\"loss\"], lw=2, label='training loss')\n",
        "#plt.plot(logs.loc[1:,\"val_loss\"], lw=2, label='validation loss')\n",
        "plt.xlabel(\"Epoch\")\n",
        "plt.ylabel(\"Loss\")\n",
        "plt.legend()\n",
        "plt.subplot(1, 2, 2)\n",
        "plt.plot(logs.loc[1:,\"mean_absolute_percentage_error\"], lw=2, label='training MAE')\n",
        "#plt.plot(logs.loc[1:,\"val_mean_absolute_percentage_error\"], lw=2, label='validation MAE')\n",
        "plt.xlabel(\"Epoch\")\n",
        "plt.ylabel(\"MAPE\")\n",
        "plt.legend(loc='upper right')\n",
        "plt.show()"
      ],
      "metadata": {
        "colab": {
          "base_uri": "https://localhost:8080/",
          "height": 279
        },
        "id": "Op4VAw2FXcN_",
        "outputId": "5b70b2a3-f1c2-4a60-c407-1966c11bb8c8"
      },
      "execution_count": 289,
      "outputs": [
        {
          "output_type": "display_data",
          "data": {
            "text/plain": [
              "<Figure size 1008x288 with 2 Axes>"
            ],
            "image/png": "[encoded data removed]"
          },
          "metadata": {
            "needs_background": "light"
          }
        }
      ]
    },
    {
      "cell_type": "code",
      "source": [],
      "metadata": {
        "id": "nt1GGyKrlQi2"
      },
      "execution_count": null,
      "outputs": []
    }
  ]
}